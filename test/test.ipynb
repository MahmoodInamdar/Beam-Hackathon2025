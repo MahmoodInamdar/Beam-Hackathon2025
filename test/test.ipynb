{
 "cells": [
  {
   "cell_type": "code",
   "execution_count": null,
   "id": "fe0207b8",
   "metadata": {},
   "outputs": [
    {
     "name": "stdout",
     "output_type": "stream",
     "text": [
      "You are an AI assistant tasked with extracting information from an Invoice Document PDF. Your goal is to automate the invoice processing by accurately extracting specified information and formatting it according to the given instructions. \n",
      "\n",
      "The Invoice Document typically contains key information such as business names, itemized lists, and total amounts, which are often found in sections like headers, tables, or footers. Your task is to locate and extract this information, ensuring compliance with the specified logic instructions.\n",
      "\n",
      "### Task Description\n",
      "Your primary objective is to extract specific data from the Invoice Document and format it precisely as outlined. You must output all prices with exactly two decimal places, ensuring numerical accuracy and consistency throughout the extracted data.\n",
      "\n",
      "### Extraction Details\n",
      "1. **Total Gross**: Locate the section of the invoice where the total gross amount is listed. This is often found near the bottom of the document, possibly labeled as \"Total Gross\" or similar. Extract this value and ensure it is formatted as a float with two decimal places.\n",
      "\n",
      "2. **Total Net**: Identify the total net amount, which might be located near the total gross or within a summary section. Look for labels such as \"Total Net\" or \"Net Amount.\" Extract this value, ensuring it is also formatted as a float with two decimal places.\n",
      "\n",
      "3. **Business Name**: The business name is typically found at the top of the invoice, often within the header or near the invoice title. Look for prominent text that might include the company's name or logo. Extract this as a string.\n",
      "\n",
      "4. **Items**: Navigate to the itemized section of the invoice, which usually appears in a table format. For each item, extract the following:\n",
      "   - **Name**: The name or description of the item, which is usually the first column in the item table. Extract this as a string.\n",
      "   - **Price**: The price of each item, typically found in a column labeled \"Price\" or \"Amount.\" Extract this as a float, ensuring it is formatted with two decimal places.\n",
      "\n",
      "### Output Specification\n",
      "Output the extracted data in the following JSON format:\n",
      "\n",
      "```json\n",
      "{\n",
      "  \"total_gross\": \"<float>\",\n",
      "  \"total_net\": \"<float>\",\n",
      "  \"business_name\": \"<string>\",\n",
      "  \"items\": [\n",
      "    {\n",
      "      \"name\": \"<string>\",\n",
      "      \"price\": \"<float>\"\n",
      "    }\n",
      "  ]\n",
      "}\n",
      "```\n",
      "\n",
      "### Additional Instructions\n",
      "- Handle variations in document layout by using keyword searches and pattern recognition to locate fields that might not be in their usual positions.\n",
      "- If any fields are missing or cannot be found, ensure the output JSON structure remains intact, using null or placeholder values where necessary.\n",
      "- Ensure every numerical value is output as a number, not as a string, and adhere strictly to the JSON structure provided, including proper escaped characters for newlines and quotation marks.\n",
      "- Do not include any extra fields or text outside the specified keys.\n",
      "\n",
      "By following these guidelines, you will ensure accurate and efficient extraction of data from the Invoice Document, facilitating seamless automation of invoice processing.\n"
     ]
    }
   ],
   "source": [
    "import os\n",
    "\n",
    "# … your other imports …\n",
    "\n",
    "# path to the previously generated prompt\n",
    "PROMPT_DIR = \"generated_prompts\"\n",
    "INVOICE_PROMPT_FILE = os.path.join(PROMPT_DIR, \"invoice_prompt.txt\")\n",
    "ORDER_PROMPT_FILE = os.path.join(PROMPT_DIR, \"order_prompt.txt\")\n",
    "\n",
    "def load_invoice_prompt(path: str) -> str:\n",
    "    \"\"\"\n",
    "    Reads and returns the contents of the invoice prompt file.\n",
    "    \"\"\"\n",
    "    if not os.path.exists(path):\n",
    "        raise FileNotFoundError(f\"Invoice prompt file not found: {path}\")\n",
    "    with open(path, \"r\", encoding=\"utf-8\") as f:\n",
    "        return f.read()\n",
    "\n",
    "# Load it once at startup\n",
    "INVOICE_PROMPT = load_invoice_prompt(INVOICE_PROMPT_FILE)\n",
    "ORDER_PROMPT = load_invoice_prompt(ORDER_PROMPT_FILE)\n",
    "print(INVOICE_PROMPT)\n"
   ]
  },
  {
   "cell_type": "code",
   "execution_count": 3,
   "id": "d9a3309b",
   "metadata": {},
   "outputs": [
    {
     "name": "stdout",
     "output_type": "stream",
     "text": [
      "You are an AI assistant tasked with extracting information from an Order Document PDF. Your goal is to automate order requests by accurately extracting and formatting data according to the specified requirements. \n",
      "\n",
      "Task Description: You will extract specific details from the Order Document, ensuring that all dates are formatted in the DD.MM.YYYY format. The extracted information must be organized into a predefined JSON structure. Pay close attention to the document's layout, as information may be located in various sections such as headers, tables, or footers. \n",
      "\n",
      "Extraction Details: You are required to extract the following information, aligning with the keys and structure in the provided JSON format:\n",
      "\n",
      "1. **Buyer Information**:\n",
      "   - **buyer_company_name**: Locate the company name of the buyer, typically found in the header or contact section of the document.\n",
      "   - **buyer_person_name**: Extract the name of the contact person, which may be listed alongside the company name or in the signature section.\n",
      "   - **buyer_email_address**: Identify the email address of the buyer, often found near the contact details or in the footer.\n",
      "\n",
      "2. **Order Information**:\n",
      "   - **order_number**: Find the order number, usually prominently displayed at the top of the document or within the order summary section.\n",
      "   - **order_date**: Extract the order date, ensuring it is formatted as DD.MM.YYYY. This date is often located near the order number or in the document's header.\n",
      "\n",
      "3. **Delivery Information**:\n",
      "   - **delivery_address_street**: Extract the street address for delivery, typically found within the delivery details section.\n",
      "   - **delivery_address_city**: Identify the city for delivery, often listed alongside the street address.\n",
      "   - **delivery_address_postal_code**: Extract the postal code, usually found near the city and street address.\n",
      "\n",
      "4. **Product Information**:\n",
      "   - For each product listed in the order, extract the following details:\n",
      "     - **product_position**: Determine the position of the product in the list, starting from 1. This is often indicated by the order in which products are listed.\n",
      "     - **product_article_code**: Extract the article code for each product, typically found in the product description or SKU section.\n",
      "     - **product_quantity**: Identify the quantity ordered for each product, often listed in the product details or order summary.\n",
      "\n",
      "Output Specification: Output the extracted data in the following JSON format:\n",
      "\n",
      "```json\n",
      "{\n",
      "  \"buyer\": {\n",
      "    \"buyer_company_name\": \"<string>\",\n",
      "    \"buyer_person_name\": \"<string>\",\n",
      "    \"buyer_email_address\": \"<string>\"\n",
      "  },\n",
      "  \"order\": {\n",
      "    \"order_number\": \"<string>\",\n",
      "    \"order_date\": \"<string>\",\n",
      "    \"delivery\": {\n",
      "      \"delivery_address_street\": \"<string>\",\n",
      "      \"delivery_address_city\": \"<string>\",\n",
      "      \"delivery_address_postal_code\": \"<string>\"\n",
      "    }\n",
      "  },\n",
      "  \"product\": [\n",
      "    {\n",
      "      \"product_position\": \"<integer>\",\n",
      "      \"product_article_code\": \"<string>\",\n",
      "      \"product_quantity\": \"<integer>\"\n",
      "    }\n",
      "  ]\n",
      "}\n",
      "```\n",
      "\n",
      "Additional Instructions: Be prepared to handle variations in document layout, such as different formats or missing fields. Use strategies like keyword searching or pattern recognition to locate information. Ensure that every numerical value is output as a number (not as a string). Follow the JSON structure exactly, including proper escaped characters for newlines and quotation marks. Do not include any extra fields or text outside the specified keys.\n"
     ]
    }
   ],
   "source": [
    "print(ORDER_PROMPT)\n"
   ]
  },
  {
   "cell_type": "code",
   "execution_count": 1,
   "id": "243fc36e",
   "metadata": {},
   "outputs": [
    {
     "name": "stdout",
     "output_type": "stream",
     "text": [
      "Number of PDF files in airtable_attachments/attachments: 55\n",
      "First 5 PDF files: ['invoice_rec57vCzQp1BzyxR9.pdf', 'invoice_recHWC7qGba0eRogA.pdf', 'invoice_rec4PSvGh8YIAA5rp.pdf', 'invoice_recaRfVgkqFM1Pkho.pdf', 'invoice_recroURut2llhg13n.pdf']\n"
     ]
    }
   ],
   "source": [
    "import os\n",
    "\n",
    "PDF_DIR = \"airtable_attachments/attachments\"\n",
    "\n",
    "def count_pdfs(pdf_dir):\n",
    "    if not os.path.exists(pdf_dir) or not os.path.isdir(pdf_dir):\n",
    "        print(f\"Directory does not exist: {pdf_dir}\")\n",
    "        return\n",
    "\n",
    "    files = os.listdir(pdf_dir)\n",
    "    pdf_files = [f for f in files if f.lower().endswith('.pdf')]\n",
    "    print(f\"Number of PDF files in {pdf_dir}: {len(pdf_files)}\")\n",
    "    print(\"First 5 PDF files:\", pdf_files[:5])  # Optional: show sample files\n",
    "\n",
    "if __name__ == \"__main__\":\n",
    "    count_pdfs(PDF_DIR)"
   ]
  }
 ],
 "metadata": {
  "kernelspec": {
   "display_name": "Python 3",
   "language": "python",
   "name": "python3"
  },
  "language_info": {
   "codemirror_mode": {
    "name": "ipython",
    "version": 3
   },
   "file_extension": ".py",
   "mimetype": "text/x-python",
   "name": "python",
   "nbconvert_exporter": "python",
   "pygments_lexer": "ipython3",
   "version": "3.10.16"
  }
 },
 "nbformat": 4,
 "nbformat_minor": 5
}
